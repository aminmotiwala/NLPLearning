{
  "nbformat": 4,
  "nbformat_minor": 0,
  "metadata": {
    "colab": {
      "provenance": [],
      "authorship_tag": "ABX9TyNyp5Pzo9C4HdFgt4g5zu+6",
      "include_colab_link": true
    },
    "kernelspec": {
      "name": "python3",
      "display_name": "Python 3"
    },
    "language_info": {
      "name": "python"
    }
  },
  "cells": [
    {
      "cell_type": "markdown",
      "metadata": {
        "id": "view-in-github",
        "colab_type": "text"
      },
      "source": [
        "<a href=\"https://colab.research.google.com/github/aminmotiwala/NLPLearning/blob/main/trust_pilot_sentiment_analysis.ipynb\" target=\"_parent\"><img src=\"https://colab.research.google.com/assets/colab-badge.svg\" alt=\"Open In Colab\"/></a>"
      ]
    },
    {
      "cell_type": "code",
      "execution_count": 12,
      "metadata": {
        "colab": {
          "base_uri": "https://localhost:8080/"
        },
        "id": "c5TvCI8ajU0z",
        "outputId": "3b31d0a4-60e6-48e6-889d-e23012cf7cee"
      },
      "outputs": [
        {
          "output_type": "stream",
          "name": "stdout",
          "text": [
            "Warning: Looks like you're using an outdated `kagglehub` version (installed: 0.3.5), please consider upgrading to the latest version (0.3.6).\n",
            "Path to dataset files: /root/.cache/kagglehub/datasets/andrewmvd/trip-advisor-hotel-reviews/versions/2\n"
          ]
        }
      ],
      "source": [
        "import kagglehub\n",
        "\n",
        "path = kagglehub.dataset_download(\"andrewmvd/trip-advisor-hotel-reviews\")\n",
        "\n",
        "print(\"Path to dataset files:\", path)\n"
      ]
    },
    {
      "cell_type": "code",
      "source": [
        "#reading downloaded csv\n",
        "import pandas as pd\n",
        "data = pd.read_csv(f\"{path}/tripadvisor_hotel_reviews.csv\")\n",
        "print(data.head())\n"
      ],
      "metadata": {
        "colab": {
          "base_uri": "https://localhost:8080/"
        },
        "id": "xfKzJ77honNI",
        "outputId": "67afb505-675b-4de6-e0dd-46b34c31457b"
      },
      "execution_count": 13,
      "outputs": [
        {
          "output_type": "stream",
          "name": "stdout",
          "text": [
            "                                              Review  Rating\n",
            "0  nice hotel expensive parking got good deal sta...       4\n",
            "1  ok nothing special charge diamond member hilto...       2\n",
            "2  nice rooms not 4* experience hotel monaco seat...       3\n",
            "3  unique, great stay, wonderful time hotel monac...       5\n",
            "4  great stay great stay, went seahawk game aweso...       5\n"
          ]
        }
      ]
    },
    {
      "cell_type": "code",
      "source": [
        "#now lets import are sentiment analysis model and run the analysis\n",
        "\n",
        "# Load model directly\n",
        "from transformers import AutoTokenizer, AutoModelForSequenceClassification\n",
        "\n",
        "tokenizer = AutoTokenizer.from_pretrained(\"nlptown/bert-base-multilingual-uncased-sentiment\")\n",
        "model = AutoModelForSequenceClassification.from_pretrained(\"nlptown/bert-base-multilingual-uncased-sentiment\")\n",
        "\n"
      ],
      "metadata": {
        "id": "MwQRU6XGo4do"
      },
      "execution_count": 15,
      "outputs": []
    },
    {
      "cell_type": "code",
      "source": [
        "#method to calculate sentiment\n",
        "import torch\n",
        "\n",
        "def calculate_sentiment(text):\n",
        "  tokens = tokenizer.encode(text, return_tensors='pt')\n",
        "  result = model(tokens)\n",
        "  return int(torch.argmax(result.logits))+1"
      ],
      "metadata": {
        "id": "PTtQH_0ypuRw"
      },
      "execution_count": 19,
      "outputs": []
    },
    {
      "cell_type": "code",
      "source": [
        "#now lets loop through reviews and new column of sentiments in same data frame\n",
        "data['Sentiment'] = data.loc[:10, 'Review'].apply( lambda x: calculate_sentiment(x))"
      ],
      "metadata": {
        "id": "90Ypj2XCp2DZ"
      },
      "execution_count": 22,
      "outputs": []
    },
    {
      "cell_type": "code",
      "source": [
        "#lets print what we have not\n",
        "print(data[:10])\n",
        "print(data.iloc[4]['Review'])"
      ],
      "metadata": {
        "colab": {
          "base_uri": "https://localhost:8080/"
        },
        "id": "HVLdGwwXq49e",
        "outputId": "df92b481-7c18-4b3a-abeb-c836c116272b"
      },
      "execution_count": 27,
      "outputs": [
        {
          "output_type": "stream",
          "name": "stdout",
          "text": [
            "                                              Review  Rating  Sentiment\n",
            "0  nice hotel expensive parking got good deal sta...       4        4.0\n",
            "1  ok nothing special charge diamond member hilto...       2        2.0\n",
            "2  nice rooms not 4* experience hotel monaco seat...       3        2.0\n",
            "3  unique, great stay, wonderful time hotel monac...       5        5.0\n",
            "4  great stay great stay, went seahawk game aweso...       5        1.0\n",
            "5  love monaco staff husband stayed hotel crazy w...       5        2.0\n",
            "6  cozy stay rainy city, husband spent 7 nights m...       5        4.0\n",
            "7  excellent staff, housekeeping quality hotel ch...       4        5.0\n",
            "8  hotel stayed hotel monaco cruise, rooms genero...       5        5.0\n",
            "9  excellent stayed hotel monaco past w/e delight...       5        5.0\n",
            "great stay great stay, went seahawk game awesome, downfall view building did n't complain, room huge staff helpful, booked hotels website seahawk package, no charge parking got voucher taxi, problem taxi driver did n't want accept voucher barely spoke english, funny thing speak arabic called started making comments girlfriend cell phone buddy, took second realize just said fact speak language face priceless, ass told, said large city, told head doorman issue called cab company promply answer did n't, apologized offered pay taxi, bucks 2 miles stadium, game plan taxi return going humpin, great walk did n't mind, right christmas wonderful lights, homeless stowed away building entrances leave, police presence not greatest area stadium, activities 7 blocks pike street waterfront great coffee shops way, hotel mantained foyer awesome, wine tasting available evening, best dog, taking st. bernard time family, safes hotel located service desk room, bathroom huge jetted tub huge, funny house keeping walked girlfriend getting dressed, did n't hear knock doing turn service, screamed girlfriend screams hit floor laughing, started talking spanish worked, place recommend price, check online deals just good not better, besite contains deals vouchers travel websites n't tell,  \n"
          ]
        }
      ]
    }
  ]
}